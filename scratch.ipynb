{
 "cells": [
  {
   "cell_type": "code",
   "execution_count": 8,
   "metadata": {},
   "outputs": [],
   "source": [
    "import pandas as pd\n",
    "import numpy as np"
   ]
  },
  {
   "cell_type": "code",
   "execution_count": 84,
   "metadata": {},
   "outputs": [],
   "source": [
    "MISSING_INT8 = np.int8(-1)\n",
    "MISSING_INT16 = np.int16(-1)\n",
    "\n",
    "int8 = lambda x: MISSING_INT8 if x == \"\" else np.int8(x) \n",
    "int16 = lambda x: MISSING_INT16 if x == \"\" else np.int16(x) "
   ]
  },
  {
   "cell_type": "code",
   "execution_count": 92,
   "metadata": {},
   "outputs": [],
   "source": [
    "d = pd.read_csv(\n",
    "    \"../lichess_data/standard/csv/big/lichess_db_standard_rated_2022-08.csv\",\n",
    "    converters= {\n",
    "        \"Result\": int8,\n",
    "        \"WhiteRating\": int16,\n",
    "        \"BlackRating\": int16,\n",
    "        \"WhiteRatingProvisional\": int8,\n",
    "        \"BlackRatingProvisional\": int8,\n",
    "        \"WhiteRatingDiff\": int16,\n",
    "        \"BlackRatingDiff\": int16,\n",
    "        \"WhiteTitle\": int8,\n",
    "        \"BlackTitle\": int8,\n",
    "        \"ECO\": int16,\n",
    "        \"ClockInitialTime\": int16,\n",
    "        \"ClockIncrement\": int16,\n",
    "        \"Termination\": int8,\n",
    "    },\n",
    ")"
   ]
  },
  {
   "cell_type": "code",
   "execution_count": 93,
   "metadata": {},
   "outputs": [
    {
     "data": {
      "text/plain": [
       "Index                           128\n",
       "Result                     92670440\n",
       "WhiteRating               185340880\n",
       "WhiteRatingProvisional     92670440\n",
       "BlackRating               185340880\n",
       "BlackRatingProvisional     92670440\n",
       "WhiteRatingDiff           185340880\n",
       "BlackRatingDiff           185340880\n",
       "WhiteTitle                 92670440\n",
       "BlackTitle                 92670440\n",
       "ECO                       185340880\n",
       "ClockInitialTime          185340880\n",
       "ClockIncrement            185340880\n",
       "Termination                92670440\n",
       "dtype: int64"
      ]
     },
     "execution_count": 93,
     "metadata": {},
     "output_type": "execute_result"
    }
   ],
   "source": [
    "d.memory_usage()"
   ]
  },
  {
   "cell_type": "code",
   "execution_count": 94,
   "metadata": {},
   "outputs": [
    {
     "data": {
      "text/html": [
       "<div>\n",
       "<style scoped>\n",
       "    .dataframe tbody tr th:only-of-type {\n",
       "        vertical-align: middle;\n",
       "    }\n",
       "\n",
       "    .dataframe tbody tr th {\n",
       "        vertical-align: top;\n",
       "    }\n",
       "\n",
       "    .dataframe thead th {\n",
       "        text-align: right;\n",
       "    }\n",
       "</style>\n",
       "<table border=\"1\" class=\"dataframe\">\n",
       "  <thead>\n",
       "    <tr style=\"text-align: right;\">\n",
       "      <th></th>\n",
       "      <th>Result</th>\n",
       "      <th>WhiteRating</th>\n",
       "      <th>WhiteRatingProvisional</th>\n",
       "      <th>BlackRating</th>\n",
       "      <th>BlackRatingProvisional</th>\n",
       "      <th>WhiteRatingDiff</th>\n",
       "      <th>BlackRatingDiff</th>\n",
       "      <th>WhiteTitle</th>\n",
       "      <th>BlackTitle</th>\n",
       "      <th>ECO</th>\n",
       "      <th>ClockInitialTime</th>\n",
       "      <th>ClockIncrement</th>\n",
       "      <th>Termination</th>\n",
       "    </tr>\n",
       "  </thead>\n",
       "  <tbody>\n",
       "    <tr>\n",
       "      <th>0</th>\n",
       "      <td>1</td>\n",
       "      <td>1923</td>\n",
       "      <td>0</td>\n",
       "      <td>1910</td>\n",
       "      <td>0</td>\n",
       "      <td>-1</td>\n",
       "      <td>0</td>\n",
       "      <td>-1</td>\n",
       "      <td>-1</td>\n",
       "      <td>106</td>\n",
       "      <td>60</td>\n",
       "      <td>0</td>\n",
       "      <td>1</td>\n",
       "    </tr>\n",
       "    <tr>\n",
       "      <th>1</th>\n",
       "      <td>0</td>\n",
       "      <td>1781</td>\n",
       "      <td>0</td>\n",
       "      <td>1782</td>\n",
       "      <td>0</td>\n",
       "      <td>-6</td>\n",
       "      <td>5</td>\n",
       "      <td>-1</td>\n",
       "      <td>-1</td>\n",
       "      <td>101</td>\n",
       "      <td>60</td>\n",
       "      <td>0</td>\n",
       "      <td>1</td>\n",
       "    </tr>\n",
       "    <tr>\n",
       "      <th>2</th>\n",
       "      <td>2</td>\n",
       "      <td>2528</td>\n",
       "      <td>0</td>\n",
       "      <td>2355</td>\n",
       "      <td>0</td>\n",
       "      <td>4</td>\n",
       "      <td>-3</td>\n",
       "      <td>-1</td>\n",
       "      <td>-1</td>\n",
       "      <td>0</td>\n",
       "      <td>60</td>\n",
       "      <td>0</td>\n",
       "      <td>0</td>\n",
       "    </tr>\n",
       "    <tr>\n",
       "      <th>3</th>\n",
       "      <td>2</td>\n",
       "      <td>2010</td>\n",
       "      <td>0</td>\n",
       "      <td>1996</td>\n",
       "      <td>0</td>\n",
       "      <td>6</td>\n",
       "      <td>-6</td>\n",
       "      <td>-1</td>\n",
       "      <td>-1</td>\n",
       "      <td>100</td>\n",
       "      <td>60</td>\n",
       "      <td>0</td>\n",
       "      <td>1</td>\n",
       "    </tr>\n",
       "    <tr>\n",
       "      <th>4</th>\n",
       "      <td>0</td>\n",
       "      <td>1805</td>\n",
       "      <td>0</td>\n",
       "      <td>1831</td>\n",
       "      <td>0</td>\n",
       "      <td>-14</td>\n",
       "      <td>5</td>\n",
       "      <td>-1</td>\n",
       "      <td>-1</td>\n",
       "      <td>247</td>\n",
       "      <td>60</td>\n",
       "      <td>0</td>\n",
       "      <td>1</td>\n",
       "    </tr>\n",
       "  </tbody>\n",
       "</table>\n",
       "</div>"
      ],
      "text/plain": [
       "   Result  WhiteRating  WhiteRatingProvisional  BlackRating  \\\n",
       "0       1         1923                       0         1910   \n",
       "1       0         1781                       0         1782   \n",
       "2       2         2528                       0         2355   \n",
       "3       2         2010                       0         1996   \n",
       "4       0         1805                       0         1831   \n",
       "\n",
       "   BlackRatingProvisional  WhiteRatingDiff  BlackRatingDiff  WhiteTitle  \\\n",
       "0                       0               -1                0          -1   \n",
       "1                       0               -6                5          -1   \n",
       "2                       0                4               -3          -1   \n",
       "3                       0                6               -6          -1   \n",
       "4                       0              -14                5          -1   \n",
       "\n",
       "   BlackTitle  ECO  ClockInitialTime  ClockIncrement  Termination  \n",
       "0          -1  106                60               0            1  \n",
       "1          -1  101                60               0            1  \n",
       "2          -1    0                60               0            0  \n",
       "3          -1  100                60               0            1  \n",
       "4          -1  247                60               0            1  "
      ]
     },
     "execution_count": 94,
     "metadata": {},
     "output_type": "execute_result"
    }
   ],
   "source": [
    "d.head()"
   ]
  },
  {
   "cell_type": "code",
   "execution_count": 96,
   "metadata": {},
   "outputs": [
    {
     "data": {
      "text/plain": [
       "0    61739431\n",
       "1    30534121\n",
       "2      356864\n",
       "4       36351\n",
       "3        3673\n",
       "Name: Termination, dtype: int64"
      ]
     },
     "execution_count": 96,
     "metadata": {},
     "output_type": "execute_result"
    }
   ],
   "source": [
    "d[\"Termination\"].value_counts()"
   ]
  },
  {
   "cell_type": "code",
   "execution_count": 97,
   "metadata": {},
   "outputs": [
    {
     "data": {
      "text/plain": [
       "1853408944"
      ]
     },
     "execution_count": 97,
     "metadata": {},
     "output_type": "execute_result"
    }
   ],
   "source": [
    "import sys\n",
    "sys.getsizeof(d)"
   ]
  },
  {
   "cell_type": "code",
   "execution_count": null,
   "metadata": {},
   "outputs": [],
   "source": []
  }
 ],
 "metadata": {
  "kernelspec": {
   "display_name": "Python 3.9.7 ('base')",
   "language": "python",
   "name": "python3"
  },
  "language_info": {
   "codemirror_mode": {
    "name": "ipython",
    "version": 3
   },
   "file_extension": ".py",
   "mimetype": "text/x-python",
   "name": "python",
   "nbconvert_exporter": "python",
   "pygments_lexer": "ipython3",
   "version": "3.9.7"
  },
  "orig_nbformat": 4,
  "vscode": {
   "interpreter": {
    "hash": "1df8d05a25a6f469907ddd1e2bb3a6553cf98e476e07b1efbb7c7c485afc0773"
   }
  }
 },
 "nbformat": 4,
 "nbformat_minor": 2
}
